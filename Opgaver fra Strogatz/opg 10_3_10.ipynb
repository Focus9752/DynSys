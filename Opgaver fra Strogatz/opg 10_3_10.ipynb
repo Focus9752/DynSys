{
 "cells": [
  {
   "cell_type": "code",
   "execution_count": 1,
   "metadata": {},
   "outputs": [],
   "source": [
    "import numpy as np"
   ]
  },
  {
   "cell_type": "code",
   "execution_count": null,
   "metadata": {},
   "outputs": [],
   "source": [
    "def theta_map(theta_n):\n",
    "    return 2*theta_n\n",
    "\n",
    "def x_map(theta_n):\n",
    "    return np.sin(np.pi*theta_n)\n",
    "\n",
    "N = 100\n",
    "theta_0 = 1\n",
    "\n",
    "theta_arr_0 = np.zeros(N)\n",
    "\n",
    "x_arr_0 = np.zeros(N)\n",
    "\n",
    "for i in range(N):\n",
    "    theta_map(theta)"
   ]
  }
 ],
 "metadata": {
  "kernelspec": {
   "display_name": "base",
   "language": "python",
   "name": "python3"
  },
  "language_info": {
   "codemirror_mode": {
    "name": "ipython",
    "version": 3
   },
   "file_extension": ".py",
   "mimetype": "text/x-python",
   "name": "python",
   "nbconvert_exporter": "python",
   "pygments_lexer": "ipython3",
   "version": "3.11.4"
  }
 },
 "nbformat": 4,
 "nbformat_minor": 2
}
