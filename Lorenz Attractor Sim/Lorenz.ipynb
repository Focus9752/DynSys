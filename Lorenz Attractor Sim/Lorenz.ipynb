{
 "cells": [
  {
   "cell_type": "markdown",
   "metadata": {},
   "source": [
    "# ADVARSEL: NÅR ANIMATIONEN ER FÆRDIG SKAL KODEN I BUNDEN KOMMENTERES UD OG CELLEN KØRES IGEN FØR DER GEMMES. ELLERS GEMMER DU EN FIL PÅ 100+ MB!!!"
   ]
  },
  {
   "cell_type": "code",
   "execution_count": 75,
   "metadata": {},
   "outputs": [],
   "source": [
    "import numpy as np\n",
    "\n",
    "import matplotlib\n",
    "matplotlib.rcParams['animation.embed_limit'] = 2**128\n",
    "\n",
    "import matplotlib.pyplot as plt\n",
    "import matplotlib.animation as animation\n",
    "from IPython.display import HTML\n",
    "from tqdm.notebook import tqdm"
   ]
  },
  {
   "cell_type": "code",
   "execution_count": 76,
   "metadata": {},
   "outputs": [],
   "source": [
    "# # Parameters\n",
    "# s = 10\n",
    "# r = 28\n",
    "# b = 2.667\n",
    "\n",
    "# Colours\n",
    "BACKGROUND_COLOR = \"black\"\n",
    "PLOT_COLOR = \"grey\"\n",
    "\n",
    "# Width of the plotted trajectory\n",
    "LW = 1\n",
    "\n",
    "# Camera rotation speed\n",
    "ROTATION_SPEED = 1/2"
   ]
  },
  {
   "cell_type": "code",
   "execution_count": 77,
   "metadata": {},
   "outputs": [],
   "source": [
    "def get_fixed_points(s, r, b):\n",
    "    '''Returns a list containing the fixed points of the system, given the parameter values.'''\n",
    "    return [[0, 0, 0], [np.sqrt(b*(r-1)), np.sqrt(b*(r-1)), r-1], [-np.sqrt(b*(r-1)), -np.sqrt(b*(r-1)), r-1]]\n",
    "\n",
    "def get_initial_states(initial_states=None, num_states=3):\n",
    "    '''initial_states must be a nested list of initial states i.e. [[x_0, y_0, z_0], [x_1, y_1, z_1], ...]\n",
    "\n",
    "    num_states must match the length of initial_states\n",
    "    '''\n",
    "    if initial_states == None:\n",
    "        return [np.random.uniform(low=-10, high=10, size=(3,)) for i in range(num_states)] # If no initial state was given, we return num_states random states\n",
    "    else:\n",
    "        return initial_states\n",
    "\n",
    "def calculate_time_steps(dt, total_duration):\n",
    "    '''Calculates how many time steps are needed to simulate the trajectory for total_duration seconds.'''\n",
    "    n_time_steps = int(np.floor(total_duration / dt))\n",
    "\n",
    "    return n_time_steps\n",
    "\n",
    "def lorenz(r_vec, s, r, b):\n",
    "    '''Implements the Lorenz equations.'''\n",
    "    x, y, z = r_vec\n",
    "    x_dot = s * (y - x)\n",
    "    y_dot = r * x - y - x * z\n",
    "    z_dot = x * y - b * z\n",
    "\n",
    "    return np.array([x_dot, y_dot, z_dot])\n",
    "\n",
    "def RK4(r_vec, s, r, b, dt):\n",
    "    '''Numerical integration with the fourth order Runge-Kutta method. Returns the new position, given the old one and the parameter values of the system.'''\n",
    "    k1 = lorenz(r_vec, s, r, b) * dt\n",
    "    k2 = lorenz(r_vec + 1/2 * k1, s, r, b) * dt\n",
    "    k3 = lorenz(r_vec + 1/2 * k2, s, r, b) * dt\n",
    "    k4 = lorenz(r_vec + k3, s, r, b) * dt\n",
    "\n",
    "    return r_vec + 1/6 * (k1 + 2 * k2 + 2 * k3 + k4)\n",
    "\n",
    "def calculate_trajectories(initial_states, n_time_steps, s, r, b, dt):\n",
    "    '''Calculates the trajectories from each of the initial conditions. \n",
    "    \n",
    "    Returns a list containing the trajectories. Each trajectory is itself a n_time_steps x 3 list (there are three coordinates and n_time_step iterations...)'''\n",
    "    trajectories = []\n",
    "\n",
    "    for r_vec_initial in initial_states:\n",
    "        pos = np.zeros((n_time_steps, 3))\n",
    "        pos[0] = r_vec_initial\n",
    "        for i in range(n_time_steps - 1):\n",
    "            pos[i+1] = RK4(pos[i], s, r, b, dt)\n",
    "        trajectories.append(pos)\n",
    "\n",
    "    return trajectories\n",
    "\n",
    "def update_plot(ax, trajectories, fp_arr, i, colors):\n",
    "    '''Updates the plot for the animation. Colors is an array of the colors associated with each trajectory.\n",
    "    \n",
    "    A figure and subplot must be defined in advance and passed to this function, see main().'''\n",
    "    try:\n",
    "        ax.view_init(0, -56 + i * ROTATION_SPEED) # Rotates the camera around the z-axis\n",
    "        ax.clear()\n",
    "        ax.scatter(fp_arr[0][0], fp_arr[0][1], fp_arr[0][2], color=\"red\", label=\"Fixed Point #1\")\n",
    "        ax.scatter(fp_arr[1][0], fp_arr[1][1], fp_arr[1][2], color=\"lime\", label=\"Fixed Point #2\")\n",
    "        ax.scatter(fp_arr[2][0], fp_arr[2][1], fp_arr[2][2], color=\"blue\", label=\"Fixed Point #3\")\n",
    "        ax.set(facecolor=BACKGROUND_COLOR)\n",
    "        ax.set_axis_off()\n",
    "        for pos, color in zip(trajectories, colors):\n",
    "            if i < len(pos):\n",
    "                ax.plot(pos[:i, 0], pos[:i, 1], pos[:i, 2], color=color, linewidth=LW)\n",
    "                ax.scatter(pos[i, 0], pos[i, 1], pos[i, 2], color=\"white\", linewidth=LW, marker=\"*\")\n",
    "            else:\n",
    "                print(f\"Index {i} is out of bounds for trajectory with length {len(pos)}\")\n",
    "        ax.legend()\n",
    "    except Exception as e:\n",
    "        print(f\"Error updating plot for frame {i}: {e}\")\n",
    "\n"
   ]
  },
  {
   "cell_type": "code",
   "execution_count": null,
   "metadata": {},
   "outputs": [
    {
     "data": {
      "application/vnd.jupyter.widget-view+json": {
       "model_id": "54b819d2b4a54aa394a55eca6475ec63",
       "version_major": 2,
       "version_minor": 0
      },
      "text/plain": [
       "  0%|          | 0/1500 [00:00<?, ?it/s]"
      ]
     },
     "metadata": {},
     "output_type": "display_data"
    },
    {
     "name": "stdout",
     "output_type": "stream",
     "text": [
      "The initial states were:\n",
      "[0, 1, 10] with the color red\n",
      "[0, 1, 10.1] with the color green\n",
      "[0, 1, 10.2] with the color blue\n"
     ]
    }
   ],
   "source": [
    "def main(initial_states, num_states, colors, total_duration=5, s=10, r=28, b=8/3, dt=0.01):\n",
    "    fp_arr = get_fixed_points(s, r, b)\n",
    "    initial_states = get_initial_states(initial_states=initial_states, num_states=num_states)\n",
    "    n_time_steps = calculate_time_steps(dt, total_duration)\n",
    "    trajectories = calculate_trajectories(initial_states, n_time_steps, s, r, b, dt)\n",
    "\n",
    "    fig = plt.figure(facecolor=BACKGROUND_COLOR, figsize=(10, 10))\n",
    "    ax = fig.add_subplot(111, projection=\"3d\")\n",
    "\n",
    "    ani = animation.FuncAnimation(fig, lambda i: update_plot(ax, trajectories, fp_arr, i, colors), frames=tqdm(range(n_time_steps)), repeat=True)\n",
    "    \n",
    "    plt.close()\n",
    "\n",
    "    print(\"The initial states were:\")\n",
    "    for i in range(len(initial_states)):\n",
    "        print(f\"{initial_states[i]} with the color {colors[i]}\")\n",
    "\n",
    "    return HTML(ani.to_jshtml())\n",
    "\n",
    "colorlist = [\"red\", \"green\", \"blue\", \"yellow\", \"white\", \"cyan\", \"orange\", \"purple\", \"pink\", \"brown\", \"grey\", \"olive\", \"teal\", \"navy\", \"maroon\", \"silver\", \"gold\", \"indigo\", \"crimson\", \"darkorange\"] # 20 colors add more if need be\n",
    "\n",
    "#ani = main([[0, 1, 10], [0, 1, 10.1], [0, 1, 10.2]], num_states=3, colors=colorlist[:3], total_duration=15)\n",
    "\n"
   ]
  },
  {
   "cell_type": "code",
   "execution_count": null,
   "metadata": {},
   "outputs": [],
   "source": [
    "# ani"
   ]
  }
 ],
 "metadata": {
  "kernelspec": {
   "display_name": "base",
   "language": "python",
   "name": "python3"
  },
  "language_info": {
   "codemirror_mode": {
    "name": "ipython",
    "version": 3
   },
   "file_extension": ".py",
   "mimetype": "text/x-python",
   "name": "python",
   "nbconvert_exporter": "python",
   "pygments_lexer": "ipython3",
   "version": "3.12.7"
  }
 },
 "nbformat": 4,
 "nbformat_minor": 2
}
